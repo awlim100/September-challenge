{
 "cells": [
  {
   "cell_type": "code",
   "execution_count": null,
   "metadata": {
    "_cell_guid": "b1076dfc-b9ad-4769-8c92-a6c4dae69d19",
    "_uuid": "8f2839f25d086af736a60e9eeb907d3b93b6e0e5",
    "execution": {
     "iopub.execute_input": "2021-10-07T18:23:15.628532Z",
     "iopub.status.busy": "2021-10-07T18:23:15.627951Z",
     "iopub.status.idle": "2021-10-07T18:23:18.974552Z",
     "shell.execute_reply": "2021-10-07T18:23:18.973716Z",
     "shell.execute_reply.started": "2021-10-07T18:23:15.628435Z"
    }
   },
   "outputs": [],
   "source": [
    "import numpy as np \n",
    "import pandas as pd \n",
    "import os\n",
    "from sklearn.model_selection import train_test_split\n",
    "from sklearn.linear_model import LinearRegression\n",
    "from catboost import CatBoostClassifier\n",
    "import lightgbm as lgb\n",
    "from xgboost import XGBClassifier\n",
    "from sklearn.model_selection import KFold\n",
    "import sklearn.metrics\n",
    "from sklearn.metrics import roc_auc_score"
   ]
  },
  {
   "cell_type": "code",
   "execution_count": null,
   "metadata": {
    "execution": {
     "iopub.execute_input": "2021-10-07T18:23:21.114951Z",
     "iopub.status.busy": "2021-10-07T18:23:21.114401Z",
     "iopub.status.idle": "2021-10-07T18:24:04.064371Z",
     "shell.execute_reply": "2021-10-07T18:24:04.063595Z",
     "shell.execute_reply.started": "2021-10-07T18:23:21.114913Z"
    }
   },
   "outputs": [],
   "source": [
    "train_path = os.path.abspath('train.csv')\n",
    "test_path = os.path.abspath('test.csv')\n",
    "\n",
    "train_and_target = pd.read_csv(train_path)\n",
    "test_and_id = pd.read_csv(test_path)"
   ]
  },
  {
   "cell_type": "code",
   "execution_count": null,
   "metadata": {
    "execution": {
     "iopub.execute_input": "2021-10-07T18:25:33.41039Z",
     "iopub.status.busy": "2021-10-07T18:25:33.410084Z",
     "iopub.status.idle": "2021-10-07T18:25:34.121138Z",
     "shell.execute_reply": "2021-10-07T18:25:34.120323Z",
     "shell.execute_reply.started": "2021-10-07T18:25:33.410361Z"
    }
   },
   "outputs": [],
   "source": [
    "train = train_and_target.drop(['claim','id'], axis = 1)\n",
    "test = test_and_id.drop('id', axis = 1)\n",
    "train[\"nan_count\"] = train.isnull().sum(axis=1)\n",
    "test[\"nan_count\"] = test.isnull().sum(axis=1)\n",
    "target = train_and_target['claim']"
   ]
  },
  {
   "cell_type": "code",
   "execution_count": null,
   "metadata": {
    "execution": {
     "iopub.execute_input": "2021-10-07T19:00:01.445786Z",
     "iopub.status.busy": "2021-10-07T19:00:01.445494Z",
     "iopub.status.idle": "2021-10-07T19:00:01.45473Z",
     "shell.execute_reply": "2021-10-07T19:00:01.453498Z",
     "shell.execute_reply.started": "2021-10-07T19:00:01.445756Z"
    }
   },
   "outputs": [],
   "source": [
    "cb_model = CatBoostClassifier(task_type = 'GPU', silent = True)\n",
    "lgb_model = lgb.LGBMClassifier(device = 'gpu')\n",
    "xgb_model = XGBClassifier(tree_method = 'gpu_hist')\n",
    "models = [cb_model, lgb_model, xgb_model]"
   ]
  },
  {
   "cell_type": "code",
   "execution_count": null,
   "metadata": {
    "execution": {
     "iopub.execute_input": "2021-10-07T19:08:13.08151Z",
     "iopub.status.busy": "2021-10-07T19:08:13.081248Z",
     "iopub.status.idle": "2021-10-07T19:10:47.544837Z",
     "shell.execute_reply": "2021-10-07T19:10:47.542768Z",
     "shell.execute_reply.started": "2021-10-07T19:08:13.081481Z"
    }
   },
   "outputs": [],
   "source": [
    "rounds = 0\n",
    "meta_X, meta_y = [], []\n",
    "kfold = KFold(n_splits = 10, shuffle = True)\n",
    "for train_index, test_index in kfold.split(train):\n",
    "    fold_preds = []\n",
    "    X_train_split, y_train_split = train.iloc[train_index], target.iloc[train_index]\n",
    "    X_test_split, y_test_split = train.iloc[test_index], target.iloc[test_index]\n",
    "    meta_y.extend(y_test_split) #test_y = y_test_split\n",
    "    for n,m in enumerate(models):\n",
    "        m.fit(X_train_split, y_train_split)\n",
    "        yhat = m.predict_proba(X_test_split)[:,1]\n",
    "        fold_preds.append(yhat.reshape(len(yhat),1))\n",
    "        print(f\"Round {rounds}, Model {n}, Score: {roc_auc_score(y_test_split,yhat)}\")\n",
    "    meta_X.append(np.hstack(fold_preds))\n",
    "    rounds += 1\n",
    "meta_X = np.vstack(meta_X)\n",
    "meta_y = np.asarray(meta_y)\n",
    "print('Meta ', meta_X.shape, meta_y.shape)\n",
    "\n",
    "meta_model = LinearRegression()\n",
    "meta_model.fit(meta_X, meta_y)\n",
    "meta_train = []\n",
    "\n",
    "for m in models:\n",
    "    m.fit(train,target)\n",
    "    yhat = m.predict_proba(test)[:,1]\n",
    "    meta_train.append(yhat.reshape(len(yhat),1))\n",
    "meta_train = np.hstack(meta_train)\n",
    "final_preds = meta_model.predict(meta_train)\n",
    "\n",
    "print(final_preds)"
   ]
  },
  {
   "cell_type": "code",
   "execution_count": null,
   "metadata": {
    "execution": {
     "iopub.execute_input": "2021-10-07T18:48:35.614732Z",
     "iopub.status.busy": "2021-10-07T18:48:35.612934Z",
     "iopub.status.idle": "2021-10-07T18:48:37.318872Z",
     "shell.execute_reply": "2021-10-07T18:48:37.318058Z",
     "shell.execute_reply.started": "2021-10-07T18:48:35.614678Z"
    }
   },
   "outputs": [],
   "source": [
    "my_submission = pd.DataFrame({'Id': test_and_id.id, 'claim': final_preds})\n",
    "my_submission.to_csv('submission.csv', index=False)"
   ]
  },
  {
   "cell_type": "code",
   "execution_count": null,
   "metadata": {},
   "outputs": [],
   "source": []
  }
 ],
 "metadata": {
  "kernelspec": {
   "display_name": "Python 3",
   "language": "python",
   "name": "python3"
  },
  "language_info": {
   "codemirror_mode": {
    "name": "ipython",
    "version": 3
   },
   "file_extension": ".py",
   "mimetype": "text/x-python",
   "name": "python",
   "nbconvert_exporter": "python",
   "pygments_lexer": "ipython3",
   "version": "3.8.8"
  }
 },
 "nbformat": 4,
 "nbformat_minor": 4
}
